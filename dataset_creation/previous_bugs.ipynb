{
 "cells": [
  {
   "cell_type": "code",
   "execution_count": 36,
   "metadata": {
    "collapsed": false
   },
   "outputs": [],
   "source": [
    "import csv\n",
    "import sys\n",
    "import pandas as pd"
   ]
  },
  {
   "cell_type": "code",
   "execution_count": 37,
   "metadata": {
    "collapsed": false
   },
   "outputs": [],
   "source": [
    "def print_progress(i, l, step=1):\n",
    "    if i % step == 0:\n",
    "            print(\"\\r>> {}/{}\".format(i + 1, l), end=\"\")\n",
    "            sys.stdout.flush()"
   ]
  },
  {
   "cell_type": "code",
   "execution_count": 74,
   "metadata": {
    "collapsed": false
   },
   "outputs": [],
   "source": [
    "#LUCENE-SOLR\n",
    "project_folder = \"lucene\"\n",
    "output_folder = \"out\"\n",
    "\n",
    "repository_folder = \"lucene-solr\"\n",
    "repository_link = \"https://github.com/apache/lucene-solr.git\"\n",
    "checkout_branch = \"trunk\"\n",
    "\n",
    "issues_folders = [\"issue_LUCENE\", \"issue_SOLR\"]\n",
    "issues_tags = [\"LUCENE\", \"SOLR\"]\n",
    "end = \"2015-01-01\"\n",
    "start = \"Mar 18 2010\"\n",
    "\n",
    "implicated_list_file = output_folder + '/' + project_folder + '_implicated_files.csv'"
   ]
  },
  {
   "cell_type": "code",
   "execution_count": 38,
   "metadata": {
    "collapsed": true
   },
   "outputs": [],
   "source": [
    "#CAMEL\n",
    "project_folder = \"camel\"\n",
    "output_folder = \"out\"\n",
    "\n",
    "repository_folder = \"camel\"\n",
    "repository_link = \"https://github.com/apache/camel\"\n",
    "checkout_branch = \"master\"\n",
    "\n",
    "issues_folders = [\"issue_CAMEL\"]\n",
    "issues_tags = [\"CAMEL\"]\n",
    "end = \"2015-01-01\"\n",
    "start = \"Mar 20 2007\"\n",
    "\n",
    "implicated_list_file = output_folder + '/' + project_folder + '_implicated_files.csv'"
   ]
  },
  {
   "cell_type": "code",
   "execution_count": 58,
   "metadata": {
    "collapsed": true
   },
   "outputs": [],
   "source": [
    "#ZOOKEEPER\n",
    "project_folder = \"zookeeper\"\n",
    "output_folder = \"out\"\n",
    "\n",
    "repository_folder = \"zookeeper\"\n",
    "repository_link = \"https://github.com/apache/zookeeper\"\n",
    "checkout_branch = \"trunk\"\n",
    "\n",
    "issues_folders = [\"issue_ZOOKEEPER\"]\n",
    "issues_tags = [\"ZOOKEEPER\"]\n",
    "end = \"2015-01-01\"\n",
    "start = \"Nov 3 2007\"\n",
    "\n",
    "implicated_list_file = output_folder + '/' + project_folder + '_implicated_files.csv'"
   ]
  },
  {
   "cell_type": "code",
   "execution_count": 59,
   "metadata": {
    "collapsed": true
   },
   "outputs": [],
   "source": [
    "#MAVEN\n",
    "project_folder = \"maven\"\n",
    "output_folder = \"out\"\n",
    "\n",
    "repository_folder = \"maven\"\n",
    "repository_link = \"https://github.com/apache/maven\"\n",
    "checkout_branch = \"master\"\n",
    "\n",
    "issues_folders = [\"issue_MNG\"]\n",
    "issues_tags = [\"MNG\"]\n",
    "end = \"2015-01-01\"\n",
    "start = \"2004-01-01\"\n",
    "\n",
    "implicated_list_file = output_folder + '/' + project_folder + '_implicated_files.csv'"
   ]
  },
  {
   "cell_type": "code",
   "execution_count": 67,
   "metadata": {
    "collapsed": true
   },
   "outputs": [],
   "source": [
    "#MAHOUT\n",
    "project_folder = \"mahout\"\n",
    "output_folder = \"out\"\n",
    "\n",
    "repository_folder = \"mahout\"\n",
    "repository_link = \"https://github.com/apache/mahout\"\n",
    "checkout_branch = \"master\"\n",
    "\n",
    "issues_folders = [\"issue_MAHOUT\"]\n",
    "issues_tags = [\"MAHOUT\"]\n",
    "end = \"2015-01-01\"\n",
    "start = \"Feb 20 2008\"\n",
    "\n",
    "implicated_list_file = output_folder + '/' + project_folder + '_implicated_files.csv'"
   ]
  },
  {
   "cell_type": "code",
   "execution_count": 75,
   "metadata": {
    "collapsed": false
   },
   "outputs": [
    {
     "name": "stdout",
     "output_type": "stream",
     "text": [
      "['project', 'file', 'sha', 'author', 'author_file_tot_added', 'author_file_added_this_commit', 'file_tot_added', 'author_file_tot_deleted', 'author_file_deleted_this_commit', 'file_tot_deleted', 'author_file_commits', 'file_tot_commits', 'current_lines_authored', 'current_file_size', 'current_comment_lines', 'max_current_author', 'total_current_authors', 'commit_date', 'bug_fix', 'fixed_bugs', 'affected_versions', 'implicated']\n"
     ]
    }
   ],
   "source": [
    "f = open(project_folder + '/dataset/' + project_folder + '_dataset.csv' , 'r')\n",
    "content = list(csv.reader(f, delimiter=','))\n",
    "print(content[0])"
   ]
  },
  {
   "cell_type": "code",
   "execution_count": null,
   "metadata": {
    "collapsed": false
   },
   "outputs": [],
   "source": [
    "previous_bugs_dict = dict()\n",
    "\n",
    "columns = 'sha, file, previous_implications'\n",
    "filename = output_folder + '/' + project_folder + '_previous_implications.csv'"
   ]
  },
  {
   "cell_type": "code",
   "execution_count": null,
   "metadata": {
    "collapsed": false
   },
   "outputs": [
    {
     "name": "stdout",
     "output_type": "stream",
     "text": [
      ">> 92805/310048"
     ]
    }
   ],
   "source": [
    "file = open(filename, 'w')\n",
    "wr = csv.writer(file, quoting=csv.QUOTE_ALL)\n",
    "wr.writerow(columns.replace('\\n', '').split(', '))\n",
    "\n",
    "previous_file = ''\n",
    "previous_sha = ''\n",
    "length = len(content)\n",
    "for i, l in enumerate(content[1:]):\n",
    "    print_progress(i, length)\n",
    "    file = l[1]\n",
    "    sha = l[2]\n",
    "    if (file == previous_file) and (sha == previous_sha):\n",
    "        continue\n",
    "\n",
    "    if previous_bugs_dict.get(file) == None:\n",
    "        previous_bugs_dict[file] = 0\n",
    "    \n",
    "    wr.writerow([sha, file, previous_bugs_dict[file]])\n",
    "    previous_bugs_dict[file] += int(float(l[-1]))\n",
    "    previous_file = file\n",
    "    previous_sha = sha"
   ]
  },
  {
   "cell_type": "code",
   "execution_count": null,
   "metadata": {
    "collapsed": false
   },
   "outputs": [],
   "source": [
    "df = pd.read_csv(filename)\n",
    "df"
   ]
  },
  {
   "cell_type": "code",
   "execution_count": null,
   "metadata": {
    "collapsed": false
   },
   "outputs": [],
   "source": [
    "df2 = pd.read_csv(project_folder + '/dataset/' + project_folder + '_metrics_0.05.csv')\n",
    "df2"
   ]
  },
  {
   "cell_type": "code",
   "execution_count": null,
   "metadata": {
    "collapsed": false
   },
   "outputs": [],
   "source": [
    "if len(df) != len(df2):\n",
    "    print('''ERROR OR SOMETHING STRANGE:\n",
    "             The two numbers should correspond.\n",
    "             Check that no row in the metrics has a NULL value\n",
    "             in the previous_implicated column after merging in the metrics.''')\n",
    "else:\n",
    "    print('GOOD JOB!')"
   ]
  },
  {
   "cell_type": "code",
   "execution_count": null,
   "metadata": {
    "collapsed": true
   },
   "outputs": [],
   "source": []
  }
 ],
 "metadata": {
  "kernelspec": {
   "display_name": "Python 3",
   "language": "python",
   "name": "python3"
  },
  "language_info": {
   "codemirror_mode": {
    "name": "ipython",
    "version": 3
   },
   "file_extension": ".py",
   "mimetype": "text/x-python",
   "name": "python",
   "nbconvert_exporter": "python",
   "pygments_lexer": "ipython3",
   "version": "3.4.3"
  }
 },
 "nbformat": 4,
 "nbformat_minor": 0
}
