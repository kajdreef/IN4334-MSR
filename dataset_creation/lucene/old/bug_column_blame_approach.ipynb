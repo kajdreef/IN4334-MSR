{
 "cells": [
  {
   "cell_type": "code",
   "execution_count": null,
   "metadata": {
    "collapsed": false
   },
   "outputs": [],
   "source": [
    "import sh\n",
    "import json\n",
    "import os\n",
    "import sys\n",
    "import re\n",
    "import io\n",
    "import pandas as pd"
   ]
  },
  {
   "cell_type": "code",
   "execution_count": null,
   "metadata": {
    "collapsed": false
   },
   "outputs": [],
   "source": [
    "project_path = os.getcwd()"
   ]
  },
  {
   "cell_type": "code",
   "execution_count": null,
   "metadata": {
    "collapsed": true
   },
   "outputs": [],
   "source": [
    "def print_progress(i, l, step=1):\n",
    "    if i % step == 0:\n",
    "            print(\"\\r>> {}/{}\".format(i + 1, l), end=\"\")\n",
    "            sys.stdout.flush()"
   ]
  },
  {
   "cell_type": "code",
   "execution_count": null,
   "metadata": {
    "collapsed": false
   },
   "outputs": [],
   "source": [
    "if not os.path.exists(os.getcwd() + '/Lucene/lucene-solr'):\n",
    "    print(\"Path doesn\\'t exists, cloning repo:\")\n",
    "    os.chdir(project_path + \"/Lucene\")\n",
    "    sh.git.clone(\"https://github.com/apache/lucene-solr.git\")\n",
    "    os.chdir(project_path)\n",
    "else:\n",
    "    print(\"Repository exists\")"
   ]
  },
  {
   "cell_type": "code",
   "execution_count": null,
   "metadata": {
    "collapsed": false
   },
   "outputs": [],
   "source": [
    "git = sh.git.bake(_cwd='Lucene/lucene-solr')\n",
    "git.checkout(\"trunk\")\n",
    "git.status()"
   ]
  },
  {
   "cell_type": "code",
   "execution_count": null,
   "metadata": {
    "collapsed": true
   },
   "outputs": [],
   "source": [
    "def extract_bug(file):\n",
    "    if not file.endswith('.json'):\n",
    "            return None\n",
    "    else:\n",
    "        bug_json_string = open(\"Lucene/issue_LUCENE/\" + file).read()\n",
    "        bug = json.loads(bug_json_string)\n",
    "        bug_fields = bug.get('fields')\n",
    "        \n",
    "        if bug_fields['issuetype']['name'] != 'Bug':\n",
    "            return None\n",
    "   \n",
    "        if bug_fields['resolution'] == None:\n",
    "            return None \n",
    "                \n",
    "        if bug_fields['resolution']['name'] != 'Fixed':\n",
    "            return None\n",
    "    return bug"
   ]
  },
  {
   "cell_type": "code",
   "execution_count": null,
   "metadata": {
    "collapsed": false
   },
   "outputs": [],
   "source": [
    "#Extracting all the fixed bugs from the bug repo\n",
    "bugs = dict() #Dictionary of bugs indexed by LUCENE+ID\n",
    "dir_list = os.listdir(os.getcwd() + \"/Lucene/issue_LUCENE\")\n",
    "l = len(dir_list)\n",
    "print(\"Progress:\")\n",
    "for idx, file in enumerate(dir_list):\n",
    "    print_progress(idx,l,10)\n",
    "    bug = extract_bug(file)\n",
    "    if(bug == None):\n",
    "        continue\n",
    "    bugs[bug['key'].upper()] = bug"
   ]
  },
  {
   "cell_type": "code",
   "execution_count": null,
   "metadata": {
    "collapsed": false
   },
   "outputs": [],
   "source": [
    "commits = []\n",
    "\n",
    "log = git.log(\"--reverse\", \"--pretty=format:%H\")\n",
    "for c_hash in log:\n",
    "    if(c_hash.endswith('\\n')):\n",
    "        c_hash = c_hash[:-1]\n",
    "    commits.append(c_hash)\n",
    "len(commits)"
   ]
  },
  {
   "cell_type": "code",
   "execution_count": null,
   "metadata": {
    "collapsed": false,
    "scrolled": true
   },
   "outputs": [],
   "source": [
    "#THIS IS SPECIFIC FOR LUCENE: It removes the SOLR commits, then splits the bug fixing ones from the others\n",
    "\n",
    "fix_commits = [] #List that will be filled with couples (commit, bugs-fixed)\n",
    "non_fix_commits = [] #List that will be filled only with commit hashes\n",
    "l = len(commits)\n",
    "print(\"Progress:\")\n",
    "for idx, c in enumerate(commits):\n",
    "    \n",
    "    print_progress(idx, l, 10)\n",
    "        \n",
    "    details = git.show(\"--name-only\",\"--pretty=format:%B\", c)\n",
    "    files = git.show(\"--name-only\",\"--pretty=format:\",c)\n",
    "    \n",
    "    #Discarding commits that modify only solr files\n",
    "    only_solr = True\n",
    "    for file in files:\n",
    "        if file.startswith('lucene'):\n",
    "            only_solr = False\n",
    "\n",
    "    if only_solr is True:\n",
    "        continue\n",
    "    \n",
    "    init = details.split(':')[0].upper()\n",
    "    \n",
    "    #if init.find('SOLR') != -1:\n",
    "    #    continue\n",
    "    \n",
    "    if init.startswith('LUCENE') or init.startswith('SOLR'):\n",
    "        if init.find(', ') != -1:\n",
    "            keys = init.split(', ')\n",
    "        elif init.find(',') != -1:\n",
    "            keys = init.split(',')\n",
    "        else:\n",
    "            keys = [init.split(' ')[0]]\n",
    "            \n",
    "        f_keys = []    \n",
    "        for k in keys:\n",
    "            if bugs.get(k) != None:\n",
    "                #Then it fixes a bug\n",
    "                f_keys.append(k)\n",
    "        \n",
    "        if len(f_keys) != 0:\n",
    "            fix_commits.append((c,f_keys))\n",
    "        else:\n",
    "            non_fix_commits.append(c)\n",
    "    else:\n",
    "        non_fix_commits.append(c)\n",
    "        \n",
    "#Some commits cite more than one issue...which lines are the bug fix, if one of the two is only an improvement ?\n",
    "#HP: we consider all the removed lines as implicated (fix-inducing)"
   ]
  },
  {
   "cell_type": "code",
   "execution_count": null,
   "metadata": {
    "collapsed": false
   },
   "outputs": [],
   "source": [
    "print(len(fix_commits)) #Number of LUCENE bug fixing commits\n",
    "print(len(non_fix_commits)) #Number of LUCENE non bug fixing commits\n",
    "print(len(commits)) #Number of LUCENE + SOLR commits\n",
    "#We can see that on average half of the commits were only solr related, so we discarded them"
   ]
  },
  {
   "cell_type": "code",
   "execution_count": null,
   "metadata": {
    "collapsed": false
   },
   "outputs": [],
   "source": [
    "def get_bug_commits(commit_hash, line_num, bug_hash):    \n",
    "    git.checkout(str(commit_hash + \"^\"))\n",
    "\n",
    "    # Go through all the files that have been changed\n",
    "    for key_file_name in line_num:\n",
    "        ## Check if file is a java file if not continue with next file\n",
    "        if(key_file_name.find('.java') == -1):\n",
    "            continue\n",
    "        \n",
    "        ## If the file is part of the SOLR files then continue with next file\n",
    "        if(key_file_name.find('solr') != -1):\n",
    "            continue\n",
    "            \n",
    "        blame_output = git.blame(\"-l\",key_file_name)\n",
    "        blame_output_split = blame_output.split('\\n')\n",
    "        \n",
    "        # Get hash for all the lines that have been changed.\n",
    "        for i in line_num[key_file_name]:\n",
    "            hash_of_line = blame_output_split[i-1].split(' ')[0]\n",
    "            if bug_hash.get(hash_of_line) == None:\n",
    "                bug_hash[hash_of_line] = set([key_file_name])\n",
    "            else:\n",
    "                bug_hash[hash_of_line].add(key_file_name)\n",
    "            \n",
    "    return bug_hash"
   ]
  },
  {
   "cell_type": "code",
   "execution_count": null,
   "metadata": {
    "collapsed": false
   },
   "outputs": [],
   "source": [
    "def get_added_lines(commitHash):\n",
    "    file = open('diff_file.txt', 'w+', encoding=\"ISO-8859-1\")\n",
    "    git.diff(\"--no-color\", commitHash + \"^\", commitHash, _out=\"diff_file.txt\").wait()\n",
    "    output_diff = file.read()\n",
    "    file.close()\n",
    "    \n",
    "    # Get diff output\n",
    "#     stream = io.StringIO()\n",
    "#     git.diff(\"--no-color\", commitHash + \"^\", commitHash, _out=stream)\n",
    "#     output_diff = stream.getvalue()\n",
    "#     stream.close()\n",
    "    \n",
    "    # Cut output up in separate lines\n",
    "    lines = output_diff.split('\\n')\n",
    "\n",
    "    \n",
    "    line_num = dict()\n",
    "    start_line = 0\n",
    "    name_of_file = \"\"\n",
    "    i = 0\n",
    "    name_file_set = set()\n",
    "\n",
    "    # Go through the diff output to determine line number(s) of deleted lines\n",
    "    for line in lines:\n",
    "        # Header where the name of the file is located.\n",
    "        if line[0:4] == \"diff\":\n",
    "            name_of_file = line.split(' b/')[-1]\n",
    "\n",
    "\n",
    "        # New section of changed code find starting line number\n",
    "        elif line[0:2] == \"@@\":\n",
    "            lineNum = re.findall('\\-[0-9]+\\,',line)\n",
    "            start_line = int(re.findall('\\-[0-9]+',line)[0][1:])\n",
    "            i = 0\n",
    "\n",
    "        # Lines that has been changed\n",
    "        elif (line[0:2] == \"- \"):\n",
    "            if line_num.get(name_of_file) == None:\n",
    "                line_num[name_of_file] = []\n",
    "                name_file_set.add(name_of_file)\n",
    "            line_num[name_of_file].append(start_line + i);\n",
    "            i += 1\n",
    "\n",
    "\n",
    "        # Indentaion infront of a line of code that hasn't changed\n",
    "        elif line[0:2] == \"  \":\n",
    "            i += 1\n",
    "            \n",
    "    return line_num"
   ]
  },
  {
   "cell_type": "code",
   "execution_count": null,
   "metadata": {
    "collapsed": false
   },
   "outputs": [],
   "source": [
    "total = len(fix_commits)\n",
    "bug_commits = dict()\n",
    "\n",
    "print(\"Progress:\")\n",
    "for idx, fix_hash in enumerate(fix_commits):\n",
    "    new_lines = get_added_lines(fix_hash[0])\n",
    "    bug_commits = get_bug_commits(fix_hash[0], new_lines, bug_commits)\n",
    "\n",
    "    print_progress(idx, total,1)\n",
    "#     if idx == 10:\n",
    "#         break\n"
   ]
  },
  {
   "cell_type": "code",
   "execution_count": null,
   "metadata": {
    "collapsed": false
   },
   "outputs": [],
   "source": [
    "hash_file_list = []\n",
    "for key, file_name_set in bug_commits.items():\n",
    "    for file_name in file_name_set:\n",
    "        hash_file_list.append([key, file_name, 1])"
   ]
  },
  {
   "cell_type": "code",
   "execution_count": null,
   "metadata": {
    "collapsed": false
   },
   "outputs": [],
   "source": [
    "df = pd.DataFrame(hash_file_list, columns=['commit_hash','file', 'implicated'])\n",
    "df.to_csv(\"implicated_files.csv\")\n",
    "\n",
    "df\n"
   ]
  },
  {
   "cell_type": "code",
   "execution_count": null,
   "metadata": {
    "collapsed": true
   },
   "outputs": [],
   "source": []
  },
  {
   "cell_type": "code",
   "execution_count": null,
   "metadata": {
    "collapsed": true
   },
   "outputs": [],
   "source": []
  }
 ],
 "metadata": {
  "kernelspec": {
   "display_name": "Python 3",
   "language": "python",
   "name": "python3"
  },
  "language_info": {
   "codemirror_mode": {
    "name": "ipython",
    "version": 3
   },
   "file_extension": ".py",
   "mimetype": "text/x-python",
   "name": "python",
   "nbconvert_exporter": "python",
   "pygments_lexer": "ipython3",
   "version": "3.5.0"
  }
 },
 "nbformat": 4,
 "nbformat_minor": 0
}
