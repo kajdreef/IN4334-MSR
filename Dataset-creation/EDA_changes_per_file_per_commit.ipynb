{
 "cells": [
  {
   "cell_type": "markdown",
   "metadata": {},
   "source": [
    "# Examining the effects of ownership on software quality"
   ]
  },
  {
   "cell_type": "markdown",
   "metadata": {},
   "source": [
    "## The Case Of Lucene##\n",
    "We want to replicate the study (http://dl.acm.org/citation.cfm?doid=2025113.2025119) done by Bird et al.\n",
    "and published in FSE'11. The idea is to see the results of a similar investigation on an OSS system. We\n",
    "select Lucene (https://lucene.apache.org/core/), a search engine written in Java."
   ]
  },
  {
   "cell_type": "markdown",
   "metadata": {},
   "source": [
    "## Data collection##\n",
    "First we need to get the data to create our table, in other words we do what is called data collection.\n",
    "\n",
    "In our case, we are interested in checking the relation between some ownership related metrics and post-\n",
    "release bugs. We investigate this relation at file level, because we focus on Java and in this language the\n",
    "building blocks are the classes, which most of the time correspond 1-to-1 to files.\n",
    "\n",
    "This means that our table will have one row per each source code file and as many columns as the metrics\n",
    "we want to compute for that file, plus one column with the number of post release bugs.\n"
   ]
  },
  {
   "cell_type": "markdown",
   "metadata": {},
   "source": [
    "## Collecting git data\n",
    "For computing most of the metrics we want to investigate (e.g., how many people changed a file in its entire\n",
    "history) we need to know the history of files. We can do so by analyzing the versioning system. In our case,\n",
    "Lucene has a Subversion repository, but a git mirror (https://github.com/apache/lucene-solr.git) is also\n",
    "available. We use the git repository as it allows to have the entire history locally, thus making the\n",
    "computations faster.\n",
    "\n",
    "We clone the repository. For this we use the python library 'sh'.\n"
   ]
  },
  {
   "cell_type": "code",
   "execution_count": 1,
   "metadata": {
    "collapsed": false
   },
   "outputs": [],
   "source": [
    "%matplotlib inline\n",
    "\n",
    "import sh\n",
    "import json\n",
    "import os\n",
    "import glob2\n",
    "from collections import Counter\n",
    "import csv\n",
    "import pandas as pd\n",
    "import matplotlib.pyplot as plt"
   ]
  },
  {
   "cell_type": "code",
   "execution_count": 2,
   "metadata": {
    "collapsed": false
   },
   "outputs": [
    {
     "name": "stdout",
     "output_type": "stream",
     "text": [
      "Repository exists\n"
     ]
    }
   ],
   "source": [
    "if not os.path.exists(os.getcwd() + '/lucene-solr'):\n",
    "    print(\"Path doesn\\'t exists, cloning repo:\")\n",
    "    sh.git.clone(\"https://github.com/apache/lucene-solr.git\")\n",
    "else:\n",
    "    print(\"Repository exists\")"
   ]
  },
  {
   "cell_type": "code",
   "execution_count": 3,
   "metadata": {
    "collapsed": false
   },
   "outputs": [
    {
     "data": {
      "text/plain": [
       "\u001b[31mHEAD detached at \u001b[mlucene_solr_3_1\n",
       "nothing to commit, working directory clean"
      ]
     },
     "execution_count": 3,
     "metadata": {},
     "output_type": "execute_result"
    }
   ],
   "source": [
    "git = sh.git.bake(_cwd='lucene-solr')\n",
    "git.status()"
   ]
  },
  {
   "cell_type": "markdown",
   "metadata": {},
   "source": [
    "To perform the replication, we can either reason in terms of releases (see list of Lucene releases\n",
    "(http://archive.apache.org/dist/lucene/java/)), or we can just inspect the 'trunk' in the versioning system and\n",
    "start from a given date."
   ]
  },
  {
   "cell_type": "markdown",
   "metadata": {},
   "source": [
    "**We decided to reason in terms of releases**.\n",
    "\n",
    "We first check which releases can be found in the git repository: "
   ]
  },
  {
   "cell_type": "code",
   "execution_count": 4,
   "metadata": {
    "collapsed": false
   },
   "outputs": [],
   "source": [
    "tags = git.tag() # To show all the tags\n",
    "versions = []\n",
    "for t in tags:\n",
    "    if t.startswith('lucene_solr_'):\n",
    "        versions.append(t[12:-1].replace('_','.')) #extract the version, remove the \\n"
   ]
  },
  {
   "cell_type": "code",
   "execution_count": 5,
   "metadata": {
    "collapsed": false
   },
   "outputs": [
    {
     "data": {
      "text/plain": [
       "\u001b[31mHEAD detached at \u001b[mlucene_solr_3_1\n",
       "nothing to commit, working directory clean"
      ]
     },
     "execution_count": 5,
     "metadata": {},
     "output_type": "execute_result"
    }
   ],
   "source": [
    "git.checkout(\"tags/lucene_solr_3_1\")\n",
    "git.status()"
   ]
  },
  {
   "cell_type": "code",
   "execution_count": 6,
   "metadata": {
    "collapsed": false
   },
   "outputs": [],
   "source": [
    "def extract_features(parent, child):\n",
    "    feature_list = []\n",
    "    data = git.diff(\"--numstat\", \"-b\", \"-w\",parent, child) # -w: ignore blanklines,\n",
    "    \n",
    "    author = git(\"--no-pager\",\"show\", \"-s\", \"--pretty=format:%an <%ae>\", parent)\n",
    "    commitId = git(\"rev-parse\", parent)\n",
    "\n",
    "    data = data.split('\\n')\n",
    "    for d in data:\n",
    "        feature = d.split('\\t')   \n",
    "        if not(feature[-1].find('.java') == -1):\n",
    "            feature_list.append([commitId , author] + feature )\n",
    "\n",
    "    return feature_list"
   ]
  },
  {
   "cell_type": "code",
   "execution_count": 7,
   "metadata": {
    "collapsed": false,
    "scrolled": true
   },
   "outputs": [
    {
     "name": "stdout",
     "output_type": "stream",
     "text": [
      "50\n",
      "100\n",
      "150\n",
      "200\n",
      "250\n",
      "300\n",
      "350\n",
      "400\n",
      "450\n",
      "500\n",
      "550\n",
      "600\n",
      "650\n",
      "700\n",
      "750\n",
      "800\n",
      "850\n",
      "900\n",
      "950\n",
      "1000\n",
      "1050\n",
      "1100\n",
      "1150\n",
      "1200\n",
      "1250\n"
     ]
    }
   ],
   "source": [
    "HEAD = git.log(\"-1\", \"--pretty=format:%H\")\n",
    "\n",
    "numberOfCommits = git(\"rev-list\",HEAD, \"--count\")\n",
    "feature_list = []\n",
    "i = 1\n",
    "while i < int(numberOfCommits):\n",
    "    parent = str(HEAD) + \"~\" + str(i)\n",
    "    child = str(HEAD) + \"~\" + str(i-1)\n",
    "    \n",
    "    feature = extract_features(parent, child)\n",
    "    if len(feature) > 0:\n",
    "        feature_list += feature\n",
    "    \n",
    "    i+=1\n",
    "    if i % 50 == 0:\n",
    "        print(i)\n"
   ]
  },
  {
   "cell_type": "code",
   "execution_count": 8,
   "metadata": {
    "collapsed": false
   },
   "outputs": [],
   "source": [
    "df = pd.DataFrame(feature_list, columns=[\"Commit Hash\", \"Author\", \"Lines Added\", \"Lines Deleted\", \"File\"]) \n",
    "df[['Lines Added','Lines Deleted']] = df[['Lines Added','Lines Deleted']].astype(int)\n"
   ]
  },
  {
   "cell_type": "markdown",
   "metadata": {},
   "source": [
    "### Output data to file"
   ]
  },
  {
   "cell_type": "code",
   "execution_count": 9,
   "metadata": {
    "collapsed": true
   },
   "outputs": [],
   "source": [
    "df.to_csv('Output_data.csv')"
   ]
  },
  {
   "cell_type": "code",
   "execution_count": 10,
   "metadata": {
    "collapsed": true
   },
   "outputs": [],
   "source": [
    "df = pd.read_csv('Output_data.csv');"
   ]
  },
  {
   "cell_type": "code",
   "execution_count": 11,
   "metadata": {
    "collapsed": false
   },
   "outputs": [
    {
     "data": {
      "text/html": [
       "<div>\n",
       "<table border=\"1\" class=\"dataframe\">\n",
       "  <thead>\n",
       "    <tr style=\"text-align: right;\">\n",
       "      <th></th>\n",
       "      <th>Unnamed: 0</th>\n",
       "      <th>Lines Added</th>\n",
       "      <th>Lines Deleted</th>\n",
       "    </tr>\n",
       "  </thead>\n",
       "  <tbody>\n",
       "    <tr>\n",
       "      <th>count</th>\n",
       "      <td>9532.000000</td>\n",
       "      <td>9532.000000</td>\n",
       "      <td>9532.000000</td>\n",
       "    </tr>\n",
       "    <tr>\n",
       "      <th>mean</th>\n",
       "      <td>4765.500000</td>\n",
       "      <td>76.064834</td>\n",
       "      <td>18.915128</td>\n",
       "    </tr>\n",
       "    <tr>\n",
       "      <th>std</th>\n",
       "      <td>2751.795717</td>\n",
       "      <td>207.785831</td>\n",
       "      <td>115.099592</td>\n",
       "    </tr>\n",
       "    <tr>\n",
       "      <th>min</th>\n",
       "      <td>0.000000</td>\n",
       "      <td>0.000000</td>\n",
       "      <td>0.000000</td>\n",
       "    </tr>\n",
       "    <tr>\n",
       "      <th>25%</th>\n",
       "      <td>2382.750000</td>\n",
       "      <td>1.000000</td>\n",
       "      <td>0.000000</td>\n",
       "    </tr>\n",
       "    <tr>\n",
       "      <th>50%</th>\n",
       "      <td>4765.500000</td>\n",
       "      <td>8.000000</td>\n",
       "      <td>1.000000</td>\n",
       "    </tr>\n",
       "    <tr>\n",
       "      <th>75%</th>\n",
       "      <td>7148.250000</td>\n",
       "      <td>78.000000</td>\n",
       "      <td>3.000000</td>\n",
       "    </tr>\n",
       "    <tr>\n",
       "      <th>max</th>\n",
       "      <td>9531.000000</td>\n",
       "      <td>5034.000000</td>\n",
       "      <td>4861.000000</td>\n",
       "    </tr>\n",
       "  </tbody>\n",
       "</table>\n",
       "</div>"
      ],
      "text/plain": [
       "        Unnamed: 0  Lines Added  Lines Deleted\n",
       "count  9532.000000  9532.000000    9532.000000\n",
       "mean   4765.500000    76.064834      18.915128\n",
       "std    2751.795717   207.785831     115.099592\n",
       "min       0.000000     0.000000       0.000000\n",
       "25%    2382.750000     1.000000       0.000000\n",
       "50%    4765.500000     8.000000       1.000000\n",
       "75%    7148.250000    78.000000       3.000000\n",
       "max    9531.000000  5034.000000    4861.000000"
      ]
     },
     "execution_count": 11,
     "metadata": {},
     "output_type": "execute_result"
    }
   ],
   "source": [
    "df.describe()"
   ]
  },
  {
   "cell_type": "code",
   "execution_count": 52,
   "metadata": {
    "collapsed": false
   },
   "outputs": [
    {
     "data": {
      "image/png": "[encoded data removed]",
      "text/plain": [
       "<matplotlib.figure.Figure at 0x10e34a630>"
      ]
     },
     "metadata": {},
     "output_type": "display_data"
    }
   ],
   "source": [
    "plt.hist(df['Lines Added'], 400)\n",
    "plt.axis([0, 800,0,6000])\n",
    "\n",
    "# plt.hist(df['Lines Added'])\n",
    "# plt.yscale('log', nonposy='clip')\n",
    "\n",
    "plt.title(\"Lines Added\")\n",
    "plt.xlabel(\"Number of Lines Added\")\n",
    "plt.ylabel(\"Frequency\")\n",
    "\n",
    "plt.show()"
   ]
  },
  {
   "cell_type": "code",
   "execution_count": 54,
   "metadata": {
    "collapsed": false
   },
   "outputs": [
    {
     "data": {
      "image/png": "[encoded data removed]",
      "text/plain": [
       "<matplotlib.figure.Figure at 0x10e6767f0>"
      ]
     },
     "metadata": {},
     "output_type": "display_data"
    }
   ],
   "source": [
    "plt.hist(df['Lines Deleted'],400)\n",
    "plt.axis([0, 400,0,10000])\n",
    "\n",
    "# plt.hist(df['Lines Deleted'])\n",
    "# plt.yscale('log', nonposy='clip')\n",
    "\n",
    "plt.title(\"Lines Deleted\")\n",
    "plt.xlabel(\"Number of Lines Deleted\")\n",
    "plt.ylabel(\"Frequency\")\n",
    "plt.show()"
   ]
  },
  {
   "cell_type": "code",
   "execution_count": 48,
   "metadata": {
    "collapsed": false
   },
   "outputs": [
    {
     "name": "stdout",
     "output_type": "stream",
     "text": [
      "Percentage of commits with more than 100 lines added is: 20.478388585816198\n"
     ]
    }
   ],
   "source": [
    "percentage = len(df[df['Lines Added'] > 100])/len(df['Lines Added']) * 100\n",
    "\n",
    "print(\"Percentage of commits with more than 100 lines added is: \" + str(percentage))"
   ]
  },
  {
   "cell_type": "code",
   "execution_count": 63,
   "metadata": {
    "collapsed": false
   },
   "outputs": [
    {
     "name": "stdout",
     "output_type": "stream",
     "text": [
      "Percentage of commits with less than 20 lines added is: 52.12966848510281\n"
     ]
    }
   ],
   "source": [
    "percentage = len(df[df['Lines Added'] < 10])/len(df['Lines Added']) * 100\n",
    "\n",
    "print(\"Percentage of commits with less than 20 lines added is: \" + str(percentage))"
   ]
  },
  {
   "cell_type": "code",
   "execution_count": null,
   "metadata": {
    "collapsed": true
   },
   "outputs": [],
   "source": []
  }
 ],
 "metadata": {
  "kernelspec": {
   "display_name": "Python 3",
   "language": "python",
   "name": "python3"
  },
  "language_info": {
   "codemirror_mode": {
    "name": "ipython",
    "version": 3
   },
   "file_extension": ".py",
   "mimetype": "text/x-python",
   "name": "python",
   "nbconvert_exporter": "python",
   "pygments_lexer": "ipython3",
   "version": "3.5.0"
  }
 },
 "nbformat": 4,
 "nbformat_minor": 0
}
